{
 "cells": [
  {
   "cell_type": "markdown",
   "metadata": {},
   "source": [
    "## Real or not with LSTM"
   ]
  },
  {
   "cell_type": "markdown",
   "metadata": {},
   "source": [
    "Importing relevant libraries"
   ]
  },
  {
   "cell_type": "code",
   "execution_count": 1,
   "metadata": {
    "colab": {},
    "colab_type": "code",
    "id": "_YuslS8GMolf"
   },
   "outputs": [],
   "source": [
    "#math operations\n",
    "import numpy as np\n",
    "\n",
    "#data preprocessing\n",
    "import pandas as pd\n",
    "\n",
    "#data visulalization\n",
    "from matplotlib import pyplot as plt\n",
    "%matplotlib inline\n",
    "\n",
    "#Splitting data into testing and validation set\n",
    "from sklearn.model_selection import train_test_split\n",
    "\n",
    "#importing tensorflow utilities\n",
    "import tensorflow as tf\n",
    "from tensorflow.keras.callbacks import ModelCheckpoint\n",
    "from tensorflow.keras.preprocessing.text import Tokenizer\n",
    "from tensorflow.keras.preprocessing.sequence import pad_sequences\n",
    "from tensorflow.keras import regularizers"
   ]
  },
  {
   "cell_type": "markdown",
   "metadata": {},
   "source": [
    "Importing data from CSV as dataframe"
   ]
  },
  {
   "cell_type": "code",
   "execution_count": 2,
   "metadata": {
    "colab": {
     "base_uri": "https://localhost:8080/",
     "height": 221
    },
    "colab_type": "code",
    "id": "6KasrX_WKgiY",
    "outputId": "8ac46d88-7518-4d1c-b3b2-10143dc1d2c3"
   },
   "outputs": [
    {
     "name": "stdout",
     "output_type": "stream",
     "text": [
      "7613 3263\n"
     ]
    },
    {
     "data": {
      "text/html": [
       "<div>\n",
       "<style scoped>\n",
       "    .dataframe tbody tr th:only-of-type {\n",
       "        vertical-align: middle;\n",
       "    }\n",
       "\n",
       "    .dataframe tbody tr th {\n",
       "        vertical-align: top;\n",
       "    }\n",
       "\n",
       "    .dataframe thead th {\n",
       "        text-align: right;\n",
       "    }\n",
       "</style>\n",
       "<table border=\"1\" class=\"dataframe\">\n",
       "  <thead>\n",
       "    <tr style=\"text-align: right;\">\n",
       "      <th></th>\n",
       "      <th>id</th>\n",
       "      <th>keyword</th>\n",
       "      <th>location</th>\n",
       "      <th>text</th>\n",
       "    </tr>\n",
       "  </thead>\n",
       "  <tbody>\n",
       "    <tr>\n",
       "      <th>0</th>\n",
       "      <td>0</td>\n",
       "      <td>NaN</td>\n",
       "      <td>NaN</td>\n",
       "      <td>Just happened a terrible car crash</td>\n",
       "    </tr>\n",
       "    <tr>\n",
       "      <th>1</th>\n",
       "      <td>2</td>\n",
       "      <td>NaN</td>\n",
       "      <td>NaN</td>\n",
       "      <td>Heard about #earthquake is different cities, s...</td>\n",
       "    </tr>\n",
       "    <tr>\n",
       "      <th>2</th>\n",
       "      <td>3</td>\n",
       "      <td>NaN</td>\n",
       "      <td>NaN</td>\n",
       "      <td>there is a forest fire at spot pond, geese are...</td>\n",
       "    </tr>\n",
       "    <tr>\n",
       "      <th>3</th>\n",
       "      <td>9</td>\n",
       "      <td>NaN</td>\n",
       "      <td>NaN</td>\n",
       "      <td>Apocalypse lighting. #Spokane #wildfires</td>\n",
       "    </tr>\n",
       "    <tr>\n",
       "      <th>4</th>\n",
       "      <td>11</td>\n",
       "      <td>NaN</td>\n",
       "      <td>NaN</td>\n",
       "      <td>Typhoon Soudelor kills 28 in China and Taiwan</td>\n",
       "    </tr>\n",
       "  </tbody>\n",
       "</table>\n",
       "</div>"
      ],
      "text/plain": [
       "   id keyword location                                               text\n",
       "0   0     NaN      NaN                 Just happened a terrible car crash\n",
       "1   2     NaN      NaN  Heard about #earthquake is different cities, s...\n",
       "2   3     NaN      NaN  there is a forest fire at spot pond, geese are...\n",
       "3   9     NaN      NaN           Apocalypse lighting. #Spokane #wildfires\n",
       "4  11     NaN      NaN      Typhoon Soudelor kills 28 in China and Taiwan"
      ]
     },
     "execution_count": 2,
     "metadata": {},
     "output_type": "execute_result"
    }
   ],
   "source": [
    "train=pd.read_csv('train.csv')\n",
    "test=pd.read_csv('test.csv')\n",
    "df = pd.DataFrame(columns=['id', 'target'])\n",
    "print(train.shape[0], test.shape[0])\n",
    "test.head(5)"
   ]
  },
  {
   "cell_type": "code",
   "execution_count": 3,
   "metadata": {
    "colab": {
     "base_uri": "https://localhost:8080/",
     "height": 68
    },
    "colab_type": "code",
    "id": "nLFfYxH7OjKa",
    "outputId": "850eef58-b202-47b0-fcda-82cc366232a4"
   },
   "outputs": [
    {
     "name": "stdout",
     "output_type": "stream",
     "text": [
      "(7613,)\n"
     ]
    }
   ],
   "source": [
    "sentences = train['text']\n",
    "labels = train['target']\n",
    "sentences_test = test['text']\n",
    "print(sentences.shape)"
   ]
  },
  {
   "cell_type": "markdown",
   "metadata": {},
   "source": [
    "Embedding parameters"
   ]
  },
  {
   "cell_type": "code",
   "execution_count": 4,
   "metadata": {},
   "outputs": [],
   "source": [
    "embedding_dim = 100\n",
    "max_length = 32\n",
    "trunc_type='post'\n",
    "padding_type='post'\n",
    "oov_tok = \"<OOV>\"\n",
    "test_portion=.1"
   ]
  },
  {
   "cell_type": "markdown",
   "metadata": {},
   "source": [
    "Tokenizer and train-test split"
   ]
  },
  {
   "cell_type": "code",
   "execution_count": 5,
   "metadata": {},
   "outputs": [
    {
     "name": "stdout",
     "output_type": "stream",
     "text": [
      "(6851,) (6851,) (762,) (762,)\n"
     ]
    }
   ],
   "source": [
    "tokenizer = Tokenizer()\n",
    "tokenizer.fit_on_texts(sentences)\n",
    "word_index = tokenizer.word_index\n",
    "vocab_size=len(word_index)\n",
    "\n",
    "train_sentences, validation_sentences = train_test_split(sentences, test_size = 0.1, random_state=42)\n",
    "train_labels, validation_labels = train_test_split(labels, test_size = 0.1, random_state=42)\n",
    "training_size=len(train_sentences)\n",
    "\n",
    "print(train_sentences.shape, train_labels.shape, validation_sentences.shape, validation_labels.shape)"
   ]
  },
  {
   "cell_type": "code",
   "execution_count": 6,
   "metadata": {
    "colab": {
     "base_uri": "https://localhost:8080/",
     "height": 34
    },
    "colab_type": "code",
    "id": "1ZhbjalZ1kV4",
    "outputId": "b5cbff94-2f45-46d4-dd03-cf42807da33f"
   },
   "outputs": [
    {
     "name": "stdout",
     "output_type": "stream",
     "text": [
      "(6851, 32) (762, 32)\n"
     ]
    }
   ],
   "source": [
    "train_sequences = tokenizer.texts_to_sequences(train_sentences)\n",
    "train_padded = pad_sequences(train_sequences, padding=padding_type, maxlen=max_length)\n",
    "\n",
    "validation_sequences = tokenizer.texts_to_sequences(validation_sentences)\n",
    "validation_padded = pad_sequences(validation_sequences, padding=padding_type, maxlen=max_length)\n",
    "\n",
    "test_sequences = tokenizer.texts_to_sequences(sentences_test)\n",
    "test_padded = pad_sequences(test_sequences, padding=padding_type, maxlen=max_length)\n",
    "\n",
    "print(train_padded.shape, validation_padded.shape)"
   ]
  },
  {
   "cell_type": "markdown",
   "metadata": {},
   "source": [
    "GLOVE embedding"
   ]
  },
  {
   "cell_type": "code",
   "execution_count": 7,
   "metadata": {},
   "outputs": [],
   "source": [
    "import urllib\n",
    "\n",
    "embeddings_index = {}\n",
    "with urllib.request.urlopen(\"https://storage.googleapis.com/laurencemoroney-blog.appspot.com/glove.6B.100d.txt\") as url:\n",
    "    for line in url:\n",
    "        values = line.split()\n",
    "        word = values[0]\n",
    "        coefs = np.asarray(values[1:], dtype='float32')\n",
    "        embeddings_index[word] = coefs\n",
    "\n",
    "embeddings_matrix = np.zeros((vocab_size+1, embedding_dim))\n",
    "for word, i in word_index.items():\n",
    "    embedding_vector = embeddings_index.get(word)\n",
    "    if embedding_vector is not None:\n",
    "        embeddings_matrix[i] = embedding_vector\n"
   ]
  },
  {
   "cell_type": "markdown",
   "metadata": {},
   "source": [
    "Reshaping train labels"
   ]
  },
  {
   "cell_type": "code",
   "execution_count": 8,
   "metadata": {},
   "outputs": [],
   "source": [
    "tester=np.zeros((train_labels.shape[0], 1))\n",
    "a=0\n",
    "for x in train_labels:\n",
    "    tester[a][0]=x\n",
    "    a=a+1\n",
    "    \n",
    "train_labels=np.array(tester)\n",
    "\n",
    "tester=np.zeros((validation_labels.shape[0], 1))\n",
    "b=0\n",
    "for x in validation_labels:\n",
    "    tester[b][0]=x\n",
    "    b=b+1\n",
    "\n",
    "validation_labels=np.array(tester)"
   ]
  },
  {
   "cell_type": "code",
   "execution_count": 9,
   "metadata": {},
   "outputs": [
    {
     "name": "stdout",
     "output_type": "stream",
     "text": [
      "22701 100 32\n"
     ]
    }
   ],
   "source": [
    "print(vocab_size+1, embedding_dim, max_length)\n",
    "checkpoint = ModelCheckpoint('model', monitor='val_loss', save_best_only=True)"
   ]
  },
  {
   "cell_type": "markdown",
   "metadata": {},
   "source": [
    "Defining Model"
   ]
  },
  {
   "cell_type": "code",
   "execution_count": 10,
   "metadata": {
    "colab": {
     "base_uri": "https://localhost:8080/",
     "height": 1000
    },
    "colab_type": "code",
    "id": "cEtMg6Go4Z0l",
    "outputId": "0c8531eb-bf7c-4fc7-aaf2-3f30ce666064",
    "scrolled": false
   },
   "outputs": [
    {
     "name": "stdout",
     "output_type": "stream",
     "text": [
      "Model: \"sequential\"\n",
      "_________________________________________________________________\n",
      "Layer (type)                 Output Shape              Param #   \n",
      "=================================================================\n",
      "embedding (Embedding)        (None, 32, 100)           2270100   \n",
      "_________________________________________________________________\n",
      "conv1d (Conv1D)              (None, 28, 256)           128256    \n",
      "_________________________________________________________________\n",
      "max_pooling1d (MaxPooling1D) (None, 7, 256)            0         \n",
      "_________________________________________________________________\n",
      "bidirectional (Bidirectional (None, 7, 256)            394240    \n",
      "_________________________________________________________________\n",
      "dropout (Dropout)            (None, 7, 256)            0         \n",
      "_________________________________________________________________\n",
      "bidirectional_1 (Bidirection (None, 128)               164352    \n",
      "_________________________________________________________________\n",
      "dropout_1 (Dropout)          (None, 128)               0         \n",
      "_________________________________________________________________\n",
      "dense (Dense)                (None, 16)                2064      \n",
      "_________________________________________________________________\n",
      "dense_1 (Dense)              (None, 1)                 17        \n",
      "=================================================================\n",
      "Total params: 2,959,029\n",
      "Trainable params: 2,959,029\n",
      "Non-trainable params: 0\n",
      "_________________________________________________________________\n",
      "Train on 6851 samples, validate on 762 samples\n",
      "Epoch 1/20\n",
      "WARNING:tensorflow:From C:\\Users\\shala\\Anaconda3\\envs\\tf-gpu\\lib\\site-packages\\tensorflow_core\\python\\ops\\resource_variable_ops.py:1781: calling BaseResourceVariable.__init__ (from tensorflow.python.ops.resource_variable_ops) with constraint is deprecated and will be removed in a future version.\n",
      "Instructions for updating:\n",
      "If using Keras pass *_constraint arguments to layers.\n",
      "INFO:tensorflow:Assets written to: model\\assets\n",
      "6851/6851 - 59s - loss: 47.9332 - accuracy: 0.7227 - val_loss: 0.8849 - val_accuracy: 0.7822\n",
      "Epoch 2/20\n",
      "INFO:tensorflow:Assets written to: model\\assets\n",
      "6851/6851 - 48s - loss: 0.4307 - accuracy: 0.8796 - val_loss: 0.5431 - val_accuracy: 0.7638\n",
      "Epoch 3/20\n",
      "6851/6851 - 8s - loss: 0.2310 - accuracy: 0.9434 - val_loss: 0.5915 - val_accuracy: 0.7559\n",
      "Epoch 4/20\n",
      "6851/6851 - 8s - loss: 0.1383 - accuracy: 0.9759 - val_loss: 0.8414 - val_accuracy: 0.7165\n",
      "Epoch 5/20\n",
      "6851/6851 - 7s - loss: 0.1157 - accuracy: 0.9832 - val_loss: 0.8437 - val_accuracy: 0.7375\n",
      "Epoch 6/20\n",
      "6851/6851 - 7s - loss: 0.0894 - accuracy: 0.9874 - val_loss: 0.7692 - val_accuracy: 0.7441\n",
      "Epoch 7/20\n",
      "6851/6851 - 8s - loss: 0.0634 - accuracy: 0.9912 - val_loss: 0.8884 - val_accuracy: 0.7323\n",
      "Epoch 8/20\n",
      "6851/6851 - 8s - loss: 0.0550 - accuracy: 0.9933 - val_loss: 1.4231 - val_accuracy: 0.6667\n",
      "Epoch 9/20\n",
      "6851/6851 - 8s - loss: 0.0538 - accuracy: 0.9930 - val_loss: 1.0207 - val_accuracy: 0.7244\n",
      "Epoch 10/20\n",
      "6851/6851 - 8s - loss: 0.0484 - accuracy: 0.9930 - val_loss: 0.8605 - val_accuracy: 0.7402\n",
      "Epoch 11/20\n",
      "6851/6851 - 7s - loss: 0.0468 - accuracy: 0.9930 - val_loss: 0.9875 - val_accuracy: 0.7310\n",
      "Epoch 12/20\n",
      "6851/6851 - 7s - loss: 0.0342 - accuracy: 0.9945 - val_loss: 1.0037 - val_accuracy: 0.7126\n",
      "Epoch 13/20\n",
      "6851/6851 - 7s - loss: 0.0349 - accuracy: 0.9947 - val_loss: 1.0375 - val_accuracy: 0.7126\n",
      "Epoch 14/20\n",
      "6851/6851 - 7s - loss: 0.0368 - accuracy: 0.9942 - val_loss: 1.4418 - val_accuracy: 0.7060\n",
      "Epoch 15/20\n",
      "6851/6851 - 7s - loss: 0.0422 - accuracy: 0.9945 - val_loss: 1.1562 - val_accuracy: 0.7480\n",
      "Epoch 16/20\n",
      "6851/6851 - 7s - loss: 0.0479 - accuracy: 0.9950 - val_loss: 1.0989 - val_accuracy: 0.7493\n",
      "Epoch 17/20\n",
      "6851/6851 - 7s - loss: 0.0404 - accuracy: 0.9945 - val_loss: 1.1401 - val_accuracy: 0.7231\n",
      "Epoch 18/20\n",
      "6851/6851 - 7s - loss: 0.0316 - accuracy: 0.9950 - val_loss: 1.1902 - val_accuracy: 0.7454\n",
      "Epoch 19/20\n",
      "6851/6851 - 7s - loss: 0.0531 - accuracy: 0.9945 - val_loss: 1.0866 - val_accuracy: 0.7598\n",
      "Epoch 20/20\n",
      "6851/6851 - 8s - loss: 0.0301 - accuracy: 0.9955 - val_loss: 1.3807 - val_accuracy: 0.6982\n",
      "Training Complete\n"
     ]
    }
   ],
   "source": [
    "model = tf.keras.Sequential([\n",
    "    tf.keras.layers.Embedding(vocab_size+1, embedding_dim, input_length=max_length),\n",
    "#     tf.keras.layers.Dropout(0.5),\n",
    "    tf.keras.layers.Conv1D(256, 5, activation='relu'),\n",
    "    tf.keras.layers.MaxPooling1D(pool_size=4),\n",
    "    tf.keras.layers.Bidirectional(tf.keras.layers.LSTM(128, return_sequences=True, kernel_regularizer=regularizers.l2(0.5), kernel_initializer='random_normal')),\n",
    "    tf.keras.layers.Dropout(0.5),\n",
    "    tf.keras.layers.Bidirectional(tf.keras.layers.LSTM(64, kernel_initializer='random_normal')),\n",
    "    tf.keras.layers.Dropout(0.25),\n",
    "    tf.keras.layers.Dense(16, activation='relu', kernel_regularizer=regularizers.l2(0.5), kernel_initializer='random_normal'),\n",
    "    tf.keras.layers.Dense(1, activation='sigmoid')\n",
    "])\n",
    "tf.keras.optimizers.Adam(learning_rate=0.0001, beta_1=0.9, beta_2=0.999, amsgrad=False)\n",
    "model.compile(loss='binary_crossentropy',optimizer='adam',metrics=['accuracy'])\n",
    "model.summary()\n",
    "\n",
    "num_epochs = 20\n",
    "history = model.fit(train_padded, train_labels, epochs=num_epochs, validation_data=(validation_padded, validation_labels), verbose=2, callbacks=[checkpoint])\n",
    "\n",
    "print(\"Training Complete\")"
   ]
  },
  {
   "cell_type": "code",
   "execution_count": 11,
   "metadata": {
    "colab": {
     "base_uri": "https://localhost:8080/",
     "height": 51
    },
    "colab_type": "code",
    "id": "baCXPrKUbQ7s",
    "outputId": "3e73618b-fd8e-46ef-dda4-ed768f4b9124"
   },
   "outputs": [
    {
     "data": {
      "text/plain": [
       "array([[256,  80],\n",
       "       [150, 276]], dtype=int64)"
      ]
     },
     "execution_count": 11,
     "metadata": {},
     "output_type": "execute_result"
    }
   ],
   "source": [
    "from sklearn.metrics import confusion_matrix\n",
    "pred = []\n",
    "for x in model.predict(validation_padded):\n",
    "    y=float(x)\n",
    "    pred.append(round(y))\n",
    "\n",
    "conf_matrix = confusion_matrix(validation_labels, pred, labels=[1,0])\n",
    "conf_matrix"
   ]
  },
  {
   "cell_type": "code",
   "execution_count": 12,
   "metadata": {
    "colab": {
     "base_uri": "https://localhost:8080/",
     "height": 541
    },
    "colab_type": "code",
    "id": "l3pq6whSb5r1",
    "outputId": "f0efe74e-df20-4e24-aff9-3390a7a5f668"
   },
   "outputs": [
    {
     "data": {
      "image/png": "[encoded data removed]",
      "text/plain": [
       "<Figure size 432x288 with 1 Axes>"
      ]
     },
     "metadata": {
      "needs_background": "light"
     },
     "output_type": "display_data"
    },
    {
     "data": {
      "image/png": "[encoded data removed]",
      "text/plain": [
       "<Figure size 432x288 with 1 Axes>"
      ]
     },
     "metadata": {
      "needs_background": "light"
     },
     "output_type": "display_data"
    }
   ],
   "source": [
    "import matplotlib.pyplot as plt\n",
    "\n",
    "def plot_graphs(history, string):\n",
    "    plt.plot(history.history[string])\n",
    "    plt.plot(history.history['val_'+string])\n",
    "    plt.xlabel(\"Epochs\")\n",
    "    plt.ylabel(string)\n",
    "    plt.legend([string, 'val_'+string])\n",
    "    plt.show()\n",
    "\n",
    "plot_graphs(history, \"accuracy\")\n",
    "plot_graphs(history, \"loss\")"
   ]
  },
  {
   "cell_type": "code",
   "execution_count": 13,
   "metadata": {
    "colab": {},
    "colab_type": "code",
    "id": "nNM9nNjgElTa"
   },
   "outputs": [],
   "source": [
    "predictions=model.predict(test_padded)"
   ]
  },
  {
   "cell_type": "code",
   "execution_count": 16,
   "metadata": {
    "colab": {
     "base_uri": "https://localhost:8080/",
     "height": 34
    },
    "colab_type": "code",
    "id": "RESw0hhVGmVW",
    "outputId": "59a63934-ce92-43e9-fd26-664f892d3a2b"
   },
   "outputs": [],
   "source": [
    "df = pd.DataFrame(columns=['id', 'target'])\n",
    "predictions.size"
   ]
  },
  {
   "cell_type": "code",
   "execution_count": 20,
   "metadata": {
    "colab": {},
    "colab_type": "code",
    "id": "V6A41x7sbhNb"
   },
   "outputs": [],
   "source": [
    "for i in range(0, len(test_padded)):\n",
    "    df = df.append({'id':int(test['id'][i]), 'target':round(float(predictions[i]))}, ignore_index=True)\n",
    "\n",
    "df.to_csv('sample_submission.csv', encoding='utf-8', index=False)"
   ]
  },
  {
   "cell_type": "code",
   "execution_count": 21,
   "metadata": {
    "colab": {
     "base_uri": "https://localhost:8080/",
     "height": 419
    },
    "colab_type": "code",
    "id": "uongApoGzGv5",
    "outputId": "05408003-d345-4608-a4f2-10b876b46065"
   },
   "outputs": [
    {
     "data": {
      "text/html": [
       "<div>\n",
       "<style scoped>\n",
       "    .dataframe tbody tr th:only-of-type {\n",
       "        vertical-align: middle;\n",
       "    }\n",
       "\n",
       "    .dataframe tbody tr th {\n",
       "        vertical-align: top;\n",
       "    }\n",
       "\n",
       "    .dataframe thead th {\n",
       "        text-align: right;\n",
       "    }\n",
       "</style>\n",
       "<table border=\"1\" class=\"dataframe\">\n",
       "  <thead>\n",
       "    <tr style=\"text-align: right;\">\n",
       "      <th></th>\n",
       "      <th>id</th>\n",
       "      <th>target</th>\n",
       "    </tr>\n",
       "  </thead>\n",
       "  <tbody>\n",
       "    <tr>\n",
       "      <th>0</th>\n",
       "      <td>0</td>\n",
       "      <td>1</td>\n",
       "    </tr>\n",
       "    <tr>\n",
       "      <th>1</th>\n",
       "      <td>2</td>\n",
       "      <td>0</td>\n",
       "    </tr>\n",
       "    <tr>\n",
       "      <th>2</th>\n",
       "      <td>3</td>\n",
       "      <td>1</td>\n",
       "    </tr>\n",
       "    <tr>\n",
       "      <th>3</th>\n",
       "      <td>9</td>\n",
       "      <td>1</td>\n",
       "    </tr>\n",
       "    <tr>\n",
       "      <th>4</th>\n",
       "      <td>11</td>\n",
       "      <td>1</td>\n",
       "    </tr>\n",
       "    <tr>\n",
       "      <th>...</th>\n",
       "      <td>...</td>\n",
       "      <td>...</td>\n",
       "    </tr>\n",
       "    <tr>\n",
       "      <th>6521</th>\n",
       "      <td>10861</td>\n",
       "      <td>1</td>\n",
       "    </tr>\n",
       "    <tr>\n",
       "      <th>6522</th>\n",
       "      <td>10865</td>\n",
       "      <td>1</td>\n",
       "    </tr>\n",
       "    <tr>\n",
       "      <th>6523</th>\n",
       "      <td>10868</td>\n",
       "      <td>1</td>\n",
       "    </tr>\n",
       "    <tr>\n",
       "      <th>6524</th>\n",
       "      <td>10874</td>\n",
       "      <td>1</td>\n",
       "    </tr>\n",
       "    <tr>\n",
       "      <th>6525</th>\n",
       "      <td>10875</td>\n",
       "      <td>1</td>\n",
       "    </tr>\n",
       "  </tbody>\n",
       "</table>\n",
       "<p>6526 rows × 2 columns</p>\n",
       "</div>"
      ],
      "text/plain": [
       "         id  target\n",
       "0         0       1\n",
       "1         2       0\n",
       "2         3       1\n",
       "3         9       1\n",
       "4        11       1\n",
       "...     ...     ...\n",
       "6521  10861       1\n",
       "6522  10865       1\n",
       "6523  10868       1\n",
       "6524  10874       1\n",
       "6525  10875       1\n",
       "\n",
       "[6526 rows x 2 columns]"
      ]
     },
     "execution_count": 21,
     "metadata": {},
     "output_type": "execute_result"
    }
   ],
   "source": [
    "check=pd.read_csv('sample_submission.csv')\n",
    "check"
   ]
  },
  {
   "cell_type": "code",
   "execution_count": null,
   "metadata": {},
   "outputs": [],
   "source": []
  }
 ],
 "metadata": {
  "accelerator": "TPU",
  "colab": {
   "collapsed_sections": [],
   "machine_shape": "hm",
   "name": "Copy of Real or not with LSTM.ipynb",
   "provenance": []
  },
  "kernelspec": {
   "display_name": "TensorFlow-GPU",
   "language": "python",
   "name": "tf-gpu"
  },
  "language_info": {
   "codemirror_mode": {
    "name": "ipython",
    "version": 3
   },
   "file_extension": ".py",
   "mimetype": "text/x-python",
   "name": "python",
   "nbconvert_exporter": "python",
   "pygments_lexer": "ipython3",
   "version": "3.7.6"
  }
 },
 "nbformat": 4,
 "nbformat_minor": 1
}
